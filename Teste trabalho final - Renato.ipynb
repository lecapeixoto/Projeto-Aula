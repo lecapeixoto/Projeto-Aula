{
 "cells": [
  {
   "cell_type": "code",
   "execution_count": null,
   "metadata": {
    "collapsed": true
   },
   "outputs": [],
   "source": [
    "O presente conjunto de codigos em R buscam executar as seguintes atividades:\n",
    "    \n",
    "    1) Carregar um "
   ]
  },
  {
   "cell_type": "code",
   "execution_count": null,
   "metadata": {
    "collapsed": true
   },
   "outputs": [],
   "source": [
    "#********************************************************************************\n",
    "#DISCIPLINA: Tópicos Especiais em Gestão e Tecnologia II - \n",
    "#            Representações distribuídas de texto e modelagem de tópicos \n",
    "#            (TGI853 - Turma C)\n",
    "#********************************************************************************\n",
    "#*************************ATIVIDADE DE AVALIAÇÃO*********************************\n",
    "#ALUNA:     LETICIA DE cASTRO PEIXOTO\n",
    "#DATA:      NOV/2017\n",
    "#PROFESSOR: RENATO ROCHA\n",
    "#********************************************************************************\n",
    "\n",
    "#********************************************************************************\n",
    "# CRIANDO NUVEM DE PALAVRAS COM O RESUMO DOS ARTIGOS BAIXADOS DO SCOPUS-----\n",
    "#********************************************************************************\n",
    "\n",
    "#INSTALANDO PACKAGES\n",
    "install.packages(\"rvest\")\n",
    "install.packages(\"dplyr\")\n",
    "install.packages(\"stringr\")\n",
    "install.packages(\"wordcloud\")\n",
    "install.packages(\"tm\")\n",
    "library(wordcloud)\n",
    "library(tm)\n",
    "library(rvest)\n",
    "library(dplyr)\n",
    "library(stringr)\n",
    "\n",
    "# Tratando dados para nuvem de palavras\n",
    "# INSTALANDO PACKAGES\n",
    "install.packages(\"wordcloud\")\n",
    "install.packages(\"tm\")\n",
    "install.packages(\"SnowballC\")\n",
    "library(SnowballC)\n",
    "library(wordcloud)\n",
    "library(tm)\n",
    "\n",
    "#Arquivo baixado do scopus sem seleção de datas e com as palavras chaves \"industry 4.0\"\n",
    "setwd (\"C:/Users/lecap/Documents/LETICIA/ARQUIVOS LETICIA backup/2 ACADEMICO/DOUTORADO/DISCIPLINAS/RENATO\")\n",
    "df_scopus <- read.csv(\"scopus1.csv\", header=TRUE, sep = ';')\n",
    "\n",
    "len_abstract <- str_length(df_scopus$Abstract)\n",
    "\n",
    "abstract <-str_trim(df_scopus$Abstract)\n",
    "abstract <- removePunctuation(abstract )#retirar pontuação\n",
    "abstract  <- removeNumbers(abstract)#retirar numeros"
   ]
  }
 ],
 "metadata": {
  "kernelspec": {
   "display_name": "Python 3",
   "language": "python",
   "name": "python3"
  },
  "language_info": {
   "codemirror_mode": {
    "name": "ipython",
    "version": 3
   },
   "file_extension": ".py",
   "mimetype": "text/x-python",
   "name": "python",
   "nbconvert_exporter": "python",
   "pygments_lexer": "ipython3",
   "version": "3.6.2"
  },
  "widgets": {
   "application/vnd.jupyter.widget-state+json": {
    "state": {},
    "version_major": 2,
    "version_minor": 0
   }
  }
 },
 "nbformat": 4,
 "nbformat_minor": 2
}
